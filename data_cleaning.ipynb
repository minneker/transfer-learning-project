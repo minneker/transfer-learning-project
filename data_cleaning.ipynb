{
 "cells": [
  {
   "cell_type": "code",
   "execution_count": null,
   "metadata": {},
   "outputs": [],
   "source": [
    "# Robert Minneker\n",
    "# CSE 599 G1\n",
    "# This notebook is created to clean the UCI dataset for \n",
    "# input to the neural networks created in this project"
   ]
  },
  {
   "cell_type": "code",
   "execution_count": 12,
   "metadata": {},
   "outputs": [],
   "source": [
    "# imports and constants\n",
    "import os\n",
    "import matplotlib.pyplot as plt\n",
    "%matplotlib inline\n",
    "path = 'data/uci/hw_dataset'"
   ]
  },
  {
   "cell_type": "code",
   "execution_count": 3,
   "metadata": {},
   "outputs": [],
   "source": [
    "def plot_and_save(data_dir, output_dir, filename):\n",
    "    x_vec = []\n",
    "    y_vec = []\n",
    "    with open(os.path.join(data_dir, filename)) as f:\n",
    "        for line in f:\n",
    "            line_split = line.rstrip().split(';')\n",
    "            x, y, _, _, _, _, test_type = line_split\n",
    "\n",
    "            if int(test_type) == 1:  # save image and break\n",
    "                break\n",
    "            else:  # plot point\n",
    "                x_vec.append(int(x))\n",
    "                y_vec.append(int(y))\n",
    "    plt.plot(x_vec, y_vec)\n",
    "    plt.axis('off')\n",
    "    plt.savefig(os.path.join(output_dir, filename.split('.')[0]), bbox_inches='tight')\n",
    "    plt.clf()"
   ]
  },
  {
   "cell_type": "markdown",
   "metadata": {},
   "source": [
    "**Training data prep**"
   ]
  },
  {
   "cell_type": "code",
   "execution_count": 4,
   "metadata": {},
   "outputs": [
    {
     "data": {
      "text/plain": [
       "<Figure size 432x288 with 0 Axes>"
      ]
     },
     "metadata": {},
     "output_type": "display_data"
    }
   ],
   "source": [
    "# process the control data\n",
    "curr_dir = path + '/control'\n",
    "output_dir = 'data/train' + '/control'\n",
    "for filename in os.listdir(curr_dir):\n",
    "    plot_and_save(curr_dir, output_dir, filename)"
   ]
  },
  {
   "cell_type": "code",
   "execution_count": 5,
   "metadata": {},
   "outputs": [
    {
     "data": {
      "text/plain": [
       "<Figure size 432x288 with 0 Axes>"
      ]
     },
     "metadata": {},
     "output_type": "display_data"
    }
   ],
   "source": [
    "# process the parkinson's data\n",
    "curr_dir = path + '/parkinson'\n",
    "output_dir = 'data/train' + '/pwp'\n",
    "for filename in os.listdir(curr_dir):\n",
    "    plot_and_save(curr_dir, output_dir, filename)"
   ]
  },
  {
   "cell_type": "code",
   "execution_count": 27,
   "metadata": {},
   "outputs": [],
   "source": [
    "# randomly split data into training/test/val data\n",
    "# will use a 70/15/15 train/test/val split\n",
    "import glob\n",
    "import random\n",
    "control = glob.glob('data/all' + '/control/*')\n",
    "pwp = glob.glob('data/all' + '/pwp/*')\n",
    "\n",
    "num_control_test_val_samps = int(0.15 * len(control))\n",
    "num_pwp_test_val_samps = int(0.15 * len(pwp))\n",
    "\n",
    "# randomly shuffle each list in-place\n",
    "random.shuffle(control)\n",
    "random.shuffle(pwp)\n",
    "\n",
    "# validation split\n",
    "val_control = control[:num_control_test_val_samps]\n",
    "val_pwp = pwp[:num_pwp_test_val_samps]\n",
    "\n",
    "# test split\n",
    "test_control = control[num_control_test_val_samps:2*num_control_test_val_samps]\n",
    "test_pwp = pwp[num_pwp_test_val_samps:2*num_pwp_test_val_samps]\n",
    "\n",
    "# train split\n",
    "train_control = control[2*num_control_test_val_samps:]\n",
    "train_pwp = pwp[2*num_pwp_test_val_samps:]"
   ]
  },
  {
   "cell_type": "code",
   "execution_count": 28,
   "metadata": {},
   "outputs": [],
   "source": [
    "# populate val files\n",
    "val_control_dst = 'data/val/control/'\n",
    "for f in val_control:\n",
    "    name = f.split('/')[-1]\n",
    "    os.rename('data/all/control/' + name, val_control_dst + name)\n",
    "    \n",
    "val_pwp_dst = 'data/val/pwp/'\n",
    "for f in val_pwp:\n",
    "    name = f.split('/')[-1]\n",
    "    os.rename('data/all/pwp/' + name, val_pwp_dst + name)"
   ]
  },
  {
   "cell_type": "code",
   "execution_count": 29,
   "metadata": {},
   "outputs": [],
   "source": [
    "# populate test files\n",
    "test_control_dst = 'data/test/control/'\n",
    "for f in test_control:\n",
    "    name = f.split('/')[-1]\n",
    "    os.rename('data/all/control/' + name, test_control_dst + name)\n",
    "    \n",
    "test_pwp_dst = 'data/test/pwp/'\n",
    "for f in test_pwp:\n",
    "    name = f.split('/')[-1]\n",
    "    os.rename('data/all/pwp/' + name, test_pwp_dst + name)"
   ]
  },
  {
   "cell_type": "code",
   "execution_count": 30,
   "metadata": {},
   "outputs": [],
   "source": [
    "# populate train files\n",
    "train_control_dst = 'data/train/control/'\n",
    "for f in train_control:\n",
    "    name = f.split('/')[-1]\n",
    "    os.rename('data/all/control/' + name, train_control_dst + name)\n",
    "    \n",
    "train_pwp_dst = 'data/train/pwp/'\n",
    "for f in train_pwp:\n",
    "    name = f.split('/')[-1]\n",
    "    os.rename('data/all/pwp/' + name, train_pwp_dst + name)"
   ]
  }
 ],
 "metadata": {
  "kernelspec": {
   "display_name": "Python 3",
   "language": "python",
   "name": "python3"
  },
  "language_info": {
   "codemirror_mode": {
    "name": "ipython",
    "version": 3
   },
   "file_extension": ".py",
   "mimetype": "text/x-python",
   "name": "python",
   "nbconvert_exporter": "python",
   "pygments_lexer": "ipython3",
   "version": "3.6.8"
  }
 },
 "nbformat": 4,
 "nbformat_minor": 2
}
