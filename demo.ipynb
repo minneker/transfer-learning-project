{
  "nbformat": 4,
  "nbformat_minor": 0,
  "metadata": {
    "colab": {
      "name": "demo.ipynb",
      "provenance": [],
      "collapsed_sections": []
    },
    "kernelspec": {
      "name": "python3",
      "display_name": "Python 3"
    }
  },
  "cells": [
    {
      "cell_type": "markdown",
      "metadata": {
        "id": "lgSeBvPBR_7P"
      },
      "source": [
        "# Welcome to the live demo!\n",
        "\n",
        "This notebook is an easy way to upload your own hand drawn spiral. Follow the instructions in the cells below to upload your own photos and run them through the best performing network!"
      ]
    },
    {
      "cell_type": "code",
      "metadata": {
        "id": "B11lkMB2R-Gz"
      },
      "source": [
        "# Run this cell to load proper imports and constants\n",
        "import torch\n",
        "import torch.nn as nn\n",
        "from torchvision import models, transforms, datasets\n",
        "from PIL import Image\n",
        "\n",
        "# constants\n",
        "model_dir = '/content/'"
      ],
      "execution_count": 23,
      "outputs": []
    },
    {
      "cell_type": "code",
      "metadata": {
        "id": "a-11lBJWSXKU"
      },
      "source": [
        "# Run this cell to mount this notebook into your GDrive\n",
        "from google.colab import drive\n",
        "drive.mount('/content/drive')"
      ],
      "execution_count": null,
      "outputs": []
    },
    {
      "cell_type": "code",
      "metadata": {
        "id": "6ndEdLMzSanr"
      },
      "source": [
        "# Run this cell to download the model from GitHub to be run locally\n",
        "!wget https://raw.githubusercontent.com/minneker/transfer-learning-project/main/inceptionv3_fc_optim"
      ],
      "execution_count": null,
      "outputs": []
    },
    {
      "cell_type": "code",
      "metadata": {
        "id": "zMBSD04ESgXk"
      },
      "source": [
        "# Run this cell to load utility functions\n",
        "def load_model():\n",
        "    inception_fc = models.inception_v3(pretrained=True, aux_logits=False)\n",
        "    num_ftrs = inception_fc.fc.in_features\n",
        "    inception_fc.fc = nn.Linear(num_ftrs, 2)\n",
        "    inception_fc.load_state_dict(torch.load(model_dir + 'inceptionv3_fc_optim'))\n",
        "    return inception_fc\n",
        "\n",
        "model = load_model()\n",
        "\n",
        "def model_inference(img_path):\n",
        "    input_image = Image.open(img_path).convert('RGB')\n",
        "    preprocess = transforms.Compose([\n",
        "        transforms.Resize(299),\n",
        "        transforms.CenterCrop(299),\n",
        "        transforms.ToTensor(),\n",
        "        transforms.Normalize(mean=[0.485, 0.456, 0.406], std=[0.229, 0.224, 0.225]),\n",
        "    ])\n",
        "    input_tensor = preprocess(input_image)\n",
        "    input_batch = input_tensor.unsqueeze(0) # create a mini-batch as expected by the model\n",
        "\n",
        "    # move the input and model to GPU for speed if available\n",
        "    if torch.cuda.is_available():\n",
        "        input_batch = input_batch.to('cuda')\n",
        "        model.to('cuda')\n",
        "\n",
        "    with torch.no_grad():\n",
        "      output = model(input_batch)\n",
        "\n",
        "    # The output has unnormalized scores. To get probabilities, you can run a softmax on it.\n",
        "    probs = torch.nn.functional.softmax(output[0], dim=0)\n",
        "\n",
        "    if probs[0] > probs[1]:\n",
        "        print('Prediction: ', 'Control (healthy spiral)')\n",
        "    else:\n",
        "        print('Prediction: ', 'PwP (Parkinson\\'s spiral)')"
      ],
      "execution_count": 35,
      "outputs": []
    },
    {
      "cell_type": "code",
      "metadata": {
        "id": "QSufXTGDSifM"
      },
      "source": [
        "# Run this cell to run inference on your image of choice\n",
        "# You may specify a photo from your GDrive using it's path. \n",
        "# I suggest drawing a spiral on paper and then uploading to  \n",
        "# your GDrive, then just add the path below and run!\n",
        "\n",
        "my_img = '/path/to/your/drive/img'\n",
        "\n",
        "model_inference(my_img)"
      ],
      "execution_count": null,
      "outputs": []
    }
  ]
}